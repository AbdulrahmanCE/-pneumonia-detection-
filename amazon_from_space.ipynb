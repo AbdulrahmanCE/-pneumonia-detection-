{
 "cells": [
  {
   "cell_type": "code",
   "execution_count": 27,
   "metadata": {
    "_cell_guid": "99508910-31f0-4712-0bb5-c84db0e84f54"
   },
   "outputs": [
    {
     "name": "stdout",
     "output_type": "stream",
     "text": [
      "sample_submission_v2.csv\n",
      "test-jpg-v2\n",
      "test-tif-v3\n",
      "test_v2_file_mapping.csv\n",
      "train-jpg\n",
      "train-tif-v2\n",
      "train_v2.csv\n",
      "\n"
     ]
    }
   ],
   "source": [
    "import numpy as np # linear algebra\n",
    "import pandas as pd # data processing, CSV file I/O (e.g. pd.read_csv)\n",
    "\n",
    "# Input data files are available in the \"../input/\" directory.\n",
    "\n",
    "from subprocess import check_output\n",
    "print(check_output([\"ls\", \"../input\"]).decode(\"utf8\"))\n"
   ]
  },
  {
   "cell_type": "code",
   "execution_count": 28,
   "metadata": {
    "_cell_guid": "6cef15db-1f07-0c33-bb54-b89b3097b38e"
   },
   "outputs": [],
   "source": [
    "import os\n",
    "import math\n",
    "import cv2\n",
    "\n",
    "import matplotlib\n",
    "import matplotlib.pyplot as plt\n",
    "import matplotlib.image as mpimg\n",
    "from mpl_toolkits.axes_grid1 import ImageGrid\n",
    "\n",
    "from PIL import Image\n",
    "\n",
    "import seaborn as sns\n",
    "\n",
    "from keras.models import Sequential\n",
    "from keras.layers import Dense, Dropout, Flatten, Lambda\n",
    "from keras.layers import Conv2D, MaxPooling2D, AveragePooling2D\n",
    "from keras.layers.normalization import BatchNormalization\n",
    "from keras.preprocessing.image import ImageDataGenerator\n",
    "from keras.regularizers import l2\n",
    "from keras.callbacks import ModelCheckpoint\n",
    "\n",
    "from sklearn.model_selection import train_test_split\n",
    "from sklearn.utils import shuffle\n",
    "\n",
    "%matplotlib inline"
   ]
  },
  {
   "cell_type": "code",
   "execution_count": 29,
   "metadata": {
    "_cell_guid": "6a8c4ac8-c27d-d785-3e58-ea4fd990eed1"
   },
   "outputs": [],
   "source": [
    "filenames = os.listdir('../input/train-jpg')\n",
    "df = pd.read_csv('../input/train_v2.csv')"
   ]
  },
  {
   "cell_type": "code",
   "execution_count": 30,
   "metadata": {
    "_cell_guid": "66f8e984-b612-1acf-b63d-53f933fe9a31"
   },
   "outputs": [
    {
     "name": "stdout",
     "output_type": "stream",
     "text": [
      "<class 'pandas.core.frame.DataFrame'>\n",
      "RangeIndex: 40479 entries, 0 to 40478\n",
      "Data columns (total 2 columns):\n",
      "image_name    40479 non-null object\n",
      "tags          40479 non-null object\n",
      "dtypes: object(2)\n",
      "memory usage: 632.6+ KB\n"
     ]
    }
   ],
   "source": [
    "df.info()"
   ]
  },
  {
   "cell_type": "code",
   "execution_count": 31,
   "metadata": {
    "_cell_guid": "a866e67a-16e1-0624-ee6c-ac98132a7418"
   },
   "outputs": [
    {
     "data": {
      "text/html": [
       "<div>\n",
       "<style scoped>\n",
       "    .dataframe tbody tr th:only-of-type {\n",
       "        vertical-align: middle;\n",
       "    }\n",
       "\n",
       "    .dataframe tbody tr th {\n",
       "        vertical-align: top;\n",
       "    }\n",
       "\n",
       "    .dataframe thead th {\n",
       "        text-align: right;\n",
       "    }\n",
       "</style>\n",
       "<table border=\"1\" class=\"dataframe\">\n",
       "  <thead>\n",
       "    <tr style=\"text-align: right;\">\n",
       "      <th></th>\n",
       "      <th>image_name</th>\n",
       "      <th>tags</th>\n",
       "    </tr>\n",
       "  </thead>\n",
       "  <tbody>\n",
       "    <tr>\n",
       "      <th>count</th>\n",
       "      <td>40479</td>\n",
       "      <td>40479</td>\n",
       "    </tr>\n",
       "    <tr>\n",
       "      <th>unique</th>\n",
       "      <td>40479</td>\n",
       "      <td>449</td>\n",
       "    </tr>\n",
       "    <tr>\n",
       "      <th>top</th>\n",
       "      <td>train_29024</td>\n",
       "      <td>clear primary</td>\n",
       "    </tr>\n",
       "    <tr>\n",
       "      <th>freq</th>\n",
       "      <td>1</td>\n",
       "      <td>13636</td>\n",
       "    </tr>\n",
       "  </tbody>\n",
       "</table>\n",
       "</div>"
      ],
      "text/plain": [
       "         image_name           tags\n",
       "count         40479          40479\n",
       "unique        40479            449\n",
       "top     train_29024  clear primary\n",
       "freq              1          13636"
      ]
     },
     "execution_count": 31,
     "metadata": {},
     "output_type": "execute_result"
    }
   ],
   "source": [
    "df.describe()"
   ]
  },
  {
   "cell_type": "code",
   "execution_count": 32,
   "metadata": {
    "_cell_guid": "977da6f4-348f-aa8a-c41a-0dae8c8c175a"
   },
   "outputs": [],
   "source": [
    "df['tag_set'] = df['tags'].map(lambda s: set(s.split(' ')))\n",
    "\n",
    "tags = set()\n",
    "for t in df['tags']:\n",
    "    s = set(t.split(' '))\n",
    "    tags = tags | s\n",
    "\n",
    "tag_list = list(tags)\n",
    "tag_list.sort()\n",
    "tag_columns = ['tag_' + t for t in tag_list]\n",
    "for t in tag_list:\n",
    "    df['tag_' + t] = df['tag_set'].map(lambda x: 1 if t in x else 0)"
   ]
  },
  {
   "cell_type": "code",
   "execution_count": 33,
   "metadata": {
    "_cell_guid": "06dd8dcf-3dcd-44d7-21e0-0a9f6040d755"
   },
   "outputs": [
    {
     "name": "stdout",
     "output_type": "stream",
     "text": [
      "<class 'pandas.core.frame.DataFrame'>\n",
      "RangeIndex: 40479 entries, 0 to 40478\n",
      "Data columns (total 20 columns):\n",
      "image_name               40479 non-null object\n",
      "tags                     40479 non-null object\n",
      "tag_set                  40479 non-null object\n",
      "tag_agriculture          40479 non-null int64\n",
      "tag_artisinal_mine       40479 non-null int64\n",
      "tag_bare_ground          40479 non-null int64\n",
      "tag_blooming             40479 non-null int64\n",
      "tag_blow_down            40479 non-null int64\n",
      "tag_clear                40479 non-null int64\n",
      "tag_cloudy               40479 non-null int64\n",
      "tag_conventional_mine    40479 non-null int64\n",
      "tag_cultivation          40479 non-null int64\n",
      "tag_habitation           40479 non-null int64\n",
      "tag_haze                 40479 non-null int64\n",
      "tag_partly_cloudy        40479 non-null int64\n",
      "tag_primary              40479 non-null int64\n",
      "tag_road                 40479 non-null int64\n",
      "tag_selective_logging    40479 non-null int64\n",
      "tag_slash_burn           40479 non-null int64\n",
      "tag_water                40479 non-null int64\n",
      "dtypes: int64(17), object(3)\n",
      "memory usage: 6.2+ MB\n"
     ]
    },
    {
     "data": {
      "text/html": [
       "<div>\n",
       "<style scoped>\n",
       "    .dataframe tbody tr th:only-of-type {\n",
       "        vertical-align: middle;\n",
       "    }\n",
       "\n",
       "    .dataframe tbody tr th {\n",
       "        vertical-align: top;\n",
       "    }\n",
       "\n",
       "    .dataframe thead th {\n",
       "        text-align: right;\n",
       "    }\n",
       "</style>\n",
       "<table border=\"1\" class=\"dataframe\">\n",
       "  <thead>\n",
       "    <tr style=\"text-align: right;\">\n",
       "      <th></th>\n",
       "      <th>tag_agriculture</th>\n",
       "      <th>tag_artisinal_mine</th>\n",
       "      <th>tag_bare_ground</th>\n",
       "      <th>tag_blooming</th>\n",
       "      <th>tag_blow_down</th>\n",
       "      <th>tag_clear</th>\n",
       "      <th>tag_cloudy</th>\n",
       "      <th>tag_conventional_mine</th>\n",
       "      <th>tag_cultivation</th>\n",
       "      <th>tag_habitation</th>\n",
       "      <th>tag_haze</th>\n",
       "      <th>tag_partly_cloudy</th>\n",
       "      <th>tag_primary</th>\n",
       "      <th>tag_road</th>\n",
       "      <th>tag_selective_logging</th>\n",
       "      <th>tag_slash_burn</th>\n",
       "      <th>tag_water</th>\n",
       "    </tr>\n",
       "  </thead>\n",
       "  <tbody>\n",
       "    <tr>\n",
       "      <th>count</th>\n",
       "      <td>40479.000000</td>\n",
       "      <td>40479.000000</td>\n",
       "      <td>40479.000000</td>\n",
       "      <td>40479.000000</td>\n",
       "      <td>40479.000000</td>\n",
       "      <td>40479.000000</td>\n",
       "      <td>40479.000000</td>\n",
       "      <td>40479.000000</td>\n",
       "      <td>40479.000000</td>\n",
       "      <td>40479.000000</td>\n",
       "      <td>40479.000000</td>\n",
       "      <td>40479.000000</td>\n",
       "      <td>40479.000000</td>\n",
       "      <td>40479.000000</td>\n",
       "      <td>40479.000000</td>\n",
       "      <td>40479.000000</td>\n",
       "      <td>40479.000000</td>\n",
       "    </tr>\n",
       "    <tr>\n",
       "      <th>mean</th>\n",
       "      <td>0.304232</td>\n",
       "      <td>0.008375</td>\n",
       "      <td>0.021295</td>\n",
       "      <td>0.008202</td>\n",
       "      <td>0.002421</td>\n",
       "      <td>0.702364</td>\n",
       "      <td>0.051607</td>\n",
       "      <td>0.002470</td>\n",
       "      <td>0.110601</td>\n",
       "      <td>0.090417</td>\n",
       "      <td>0.066627</td>\n",
       "      <td>0.179377</td>\n",
       "      <td>0.926727</td>\n",
       "      <td>0.199387</td>\n",
       "      <td>0.008399</td>\n",
       "      <td>0.005163</td>\n",
       "      <td>0.183083</td>\n",
       "    </tr>\n",
       "    <tr>\n",
       "      <th>std</th>\n",
       "      <td>0.460087</td>\n",
       "      <td>0.091131</td>\n",
       "      <td>0.144368</td>\n",
       "      <td>0.090193</td>\n",
       "      <td>0.049145</td>\n",
       "      <td>0.457224</td>\n",
       "      <td>0.221235</td>\n",
       "      <td>0.049642</td>\n",
       "      <td>0.313641</td>\n",
       "      <td>0.286782</td>\n",
       "      <td>0.249378</td>\n",
       "      <td>0.383672</td>\n",
       "      <td>0.260587</td>\n",
       "      <td>0.399545</td>\n",
       "      <td>0.091264</td>\n",
       "      <td>0.071670</td>\n",
       "      <td>0.386739</td>\n",
       "    </tr>\n",
       "    <tr>\n",
       "      <th>min</th>\n",
       "      <td>0.000000</td>\n",
       "      <td>0.000000</td>\n",
       "      <td>0.000000</td>\n",
       "      <td>0.000000</td>\n",
       "      <td>0.000000</td>\n",
       "      <td>0.000000</td>\n",
       "      <td>0.000000</td>\n",
       "      <td>0.000000</td>\n",
       "      <td>0.000000</td>\n",
       "      <td>0.000000</td>\n",
       "      <td>0.000000</td>\n",
       "      <td>0.000000</td>\n",
       "      <td>0.000000</td>\n",
       "      <td>0.000000</td>\n",
       "      <td>0.000000</td>\n",
       "      <td>0.000000</td>\n",
       "      <td>0.000000</td>\n",
       "    </tr>\n",
       "    <tr>\n",
       "      <th>25%</th>\n",
       "      <td>0.000000</td>\n",
       "      <td>0.000000</td>\n",
       "      <td>0.000000</td>\n",
       "      <td>0.000000</td>\n",
       "      <td>0.000000</td>\n",
       "      <td>0.000000</td>\n",
       "      <td>0.000000</td>\n",
       "      <td>0.000000</td>\n",
       "      <td>0.000000</td>\n",
       "      <td>0.000000</td>\n",
       "      <td>0.000000</td>\n",
       "      <td>0.000000</td>\n",
       "      <td>1.000000</td>\n",
       "      <td>0.000000</td>\n",
       "      <td>0.000000</td>\n",
       "      <td>0.000000</td>\n",
       "      <td>0.000000</td>\n",
       "    </tr>\n",
       "    <tr>\n",
       "      <th>50%</th>\n",
       "      <td>0.000000</td>\n",
       "      <td>0.000000</td>\n",
       "      <td>0.000000</td>\n",
       "      <td>0.000000</td>\n",
       "      <td>0.000000</td>\n",
       "      <td>1.000000</td>\n",
       "      <td>0.000000</td>\n",
       "      <td>0.000000</td>\n",
       "      <td>0.000000</td>\n",
       "      <td>0.000000</td>\n",
       "      <td>0.000000</td>\n",
       "      <td>0.000000</td>\n",
       "      <td>1.000000</td>\n",
       "      <td>0.000000</td>\n",
       "      <td>0.000000</td>\n",
       "      <td>0.000000</td>\n",
       "      <td>0.000000</td>\n",
       "    </tr>\n",
       "    <tr>\n",
       "      <th>75%</th>\n",
       "      <td>1.000000</td>\n",
       "      <td>0.000000</td>\n",
       "      <td>0.000000</td>\n",
       "      <td>0.000000</td>\n",
       "      <td>0.000000</td>\n",
       "      <td>1.000000</td>\n",
       "      <td>0.000000</td>\n",
       "      <td>0.000000</td>\n",
       "      <td>0.000000</td>\n",
       "      <td>0.000000</td>\n",
       "      <td>0.000000</td>\n",
       "      <td>0.000000</td>\n",
       "      <td>1.000000</td>\n",
       "      <td>0.000000</td>\n",
       "      <td>0.000000</td>\n",
       "      <td>0.000000</td>\n",
       "      <td>0.000000</td>\n",
       "    </tr>\n",
       "    <tr>\n",
       "      <th>max</th>\n",
       "      <td>1.000000</td>\n",
       "      <td>1.000000</td>\n",
       "      <td>1.000000</td>\n",
       "      <td>1.000000</td>\n",
       "      <td>1.000000</td>\n",
       "      <td>1.000000</td>\n",
       "      <td>1.000000</td>\n",
       "      <td>1.000000</td>\n",
       "      <td>1.000000</td>\n",
       "      <td>1.000000</td>\n",
       "      <td>1.000000</td>\n",
       "      <td>1.000000</td>\n",
       "      <td>1.000000</td>\n",
       "      <td>1.000000</td>\n",
       "      <td>1.000000</td>\n",
       "      <td>1.000000</td>\n",
       "      <td>1.000000</td>\n",
       "    </tr>\n",
       "  </tbody>\n",
       "</table>\n",
       "</div>"
      ],
      "text/plain": [
       "       tag_agriculture      ...          tag_water\n",
       "count     40479.000000      ...       40479.000000\n",
       "mean          0.304232      ...           0.183083\n",
       "std           0.460087      ...           0.386739\n",
       "min           0.000000      ...           0.000000\n",
       "25%           0.000000      ...           0.000000\n",
       "50%           0.000000      ...           0.000000\n",
       "75%           1.000000      ...           0.000000\n",
       "max           1.000000      ...           1.000000\n",
       "\n",
       "[8 rows x 17 columns]"
      ]
     },
     "execution_count": 33,
     "metadata": {},
     "output_type": "execute_result"
    }
   ],
   "source": [
    "df.info()\n",
    "df.describe()"
   ]
  },
  {
   "cell_type": "code",
   "execution_count": 34,
   "metadata": {
    "_cell_guid": "5d411dc7-63c1-b3cb-3a15-9f0280381894"
   },
   "outputs": [
    {
     "data": {
      "text/html": [
       "<div>\n",
       "<style scoped>\n",
       "    .dataframe tbody tr th:only-of-type {\n",
       "        vertical-align: middle;\n",
       "    }\n",
       "\n",
       "    .dataframe tbody tr th {\n",
       "        vertical-align: top;\n",
       "    }\n",
       "\n",
       "    .dataframe thead th {\n",
       "        text-align: right;\n",
       "    }\n",
       "</style>\n",
       "<table border=\"1\" class=\"dataframe\">\n",
       "  <thead>\n",
       "    <tr style=\"text-align: right;\">\n",
       "      <th></th>\n",
       "      <th>image_name</th>\n",
       "      <th>tags</th>\n",
       "      <th>tag_set</th>\n",
       "      <th>tag_agriculture</th>\n",
       "      <th>tag_artisinal_mine</th>\n",
       "      <th>tag_bare_ground</th>\n",
       "      <th>tag_blooming</th>\n",
       "      <th>tag_blow_down</th>\n",
       "      <th>tag_clear</th>\n",
       "      <th>tag_cloudy</th>\n",
       "      <th>tag_conventional_mine</th>\n",
       "      <th>tag_cultivation</th>\n",
       "      <th>tag_habitation</th>\n",
       "      <th>tag_haze</th>\n",
       "      <th>tag_partly_cloudy</th>\n",
       "      <th>tag_primary</th>\n",
       "      <th>tag_road</th>\n",
       "      <th>tag_selective_logging</th>\n",
       "      <th>tag_slash_burn</th>\n",
       "      <th>tag_water</th>\n",
       "    </tr>\n",
       "  </thead>\n",
       "  <tbody>\n",
       "    <tr>\n",
       "      <th>0</th>\n",
       "      <td>train_0</td>\n",
       "      <td>haze primary</td>\n",
       "      <td>{haze, primary}</td>\n",
       "      <td>0</td>\n",
       "      <td>0</td>\n",
       "      <td>0</td>\n",
       "      <td>0</td>\n",
       "      <td>0</td>\n",
       "      <td>0</td>\n",
       "      <td>0</td>\n",
       "      <td>0</td>\n",
       "      <td>0</td>\n",
       "      <td>0</td>\n",
       "      <td>1</td>\n",
       "      <td>0</td>\n",
       "      <td>1</td>\n",
       "      <td>0</td>\n",
       "      <td>0</td>\n",
       "      <td>0</td>\n",
       "      <td>0</td>\n",
       "    </tr>\n",
       "    <tr>\n",
       "      <th>1</th>\n",
       "      <td>train_1</td>\n",
       "      <td>agriculture clear primary water</td>\n",
       "      <td>{water, agriculture, primary, clear}</td>\n",
       "      <td>1</td>\n",
       "      <td>0</td>\n",
       "      <td>0</td>\n",
       "      <td>0</td>\n",
       "      <td>0</td>\n",
       "      <td>1</td>\n",
       "      <td>0</td>\n",
       "      <td>0</td>\n",
       "      <td>0</td>\n",
       "      <td>0</td>\n",
       "      <td>0</td>\n",
       "      <td>0</td>\n",
       "      <td>1</td>\n",
       "      <td>0</td>\n",
       "      <td>0</td>\n",
       "      <td>0</td>\n",
       "      <td>1</td>\n",
       "    </tr>\n",
       "    <tr>\n",
       "      <th>2</th>\n",
       "      <td>train_2</td>\n",
       "      <td>clear primary</td>\n",
       "      <td>{primary, clear}</td>\n",
       "      <td>0</td>\n",
       "      <td>0</td>\n",
       "      <td>0</td>\n",
       "      <td>0</td>\n",
       "      <td>0</td>\n",
       "      <td>1</td>\n",
       "      <td>0</td>\n",
       "      <td>0</td>\n",
       "      <td>0</td>\n",
       "      <td>0</td>\n",
       "      <td>0</td>\n",
       "      <td>0</td>\n",
       "      <td>1</td>\n",
       "      <td>0</td>\n",
       "      <td>0</td>\n",
       "      <td>0</td>\n",
       "      <td>0</td>\n",
       "    </tr>\n",
       "    <tr>\n",
       "      <th>3</th>\n",
       "      <td>train_3</td>\n",
       "      <td>clear primary</td>\n",
       "      <td>{primary, clear}</td>\n",
       "      <td>0</td>\n",
       "      <td>0</td>\n",
       "      <td>0</td>\n",
       "      <td>0</td>\n",
       "      <td>0</td>\n",
       "      <td>1</td>\n",
       "      <td>0</td>\n",
       "      <td>0</td>\n",
       "      <td>0</td>\n",
       "      <td>0</td>\n",
       "      <td>0</td>\n",
       "      <td>0</td>\n",
       "      <td>1</td>\n",
       "      <td>0</td>\n",
       "      <td>0</td>\n",
       "      <td>0</td>\n",
       "      <td>0</td>\n",
       "    </tr>\n",
       "    <tr>\n",
       "      <th>4</th>\n",
       "      <td>train_4</td>\n",
       "      <td>agriculture clear habitation primary road</td>\n",
       "      <td>{road, agriculture, clear, habitation, primary}</td>\n",
       "      <td>1</td>\n",
       "      <td>0</td>\n",
       "      <td>0</td>\n",
       "      <td>0</td>\n",
       "      <td>0</td>\n",
       "      <td>1</td>\n",
       "      <td>0</td>\n",
       "      <td>0</td>\n",
       "      <td>0</td>\n",
       "      <td>1</td>\n",
       "      <td>0</td>\n",
       "      <td>0</td>\n",
       "      <td>1</td>\n",
       "      <td>1</td>\n",
       "      <td>0</td>\n",
       "      <td>0</td>\n",
       "      <td>0</td>\n",
       "    </tr>\n",
       "  </tbody>\n",
       "</table>\n",
       "</div>"
      ],
      "text/plain": [
       "  image_name    ...    tag_water\n",
       "0    train_0    ...            0\n",
       "1    train_1    ...            1\n",
       "2    train_2    ...            0\n",
       "3    train_3    ...            0\n",
       "4    train_4    ...            0\n",
       "\n",
       "[5 rows x 20 columns]"
      ]
     },
     "execution_count": 34,
     "metadata": {},
     "output_type": "execute_result"
    }
   ],
   "source": [
    "df.head()"
   ]
  },
  {
   "cell_type": "code",
   "execution_count": 35,
   "metadata": {
    "_cell_guid": "3aab2a71-8012-5372-8acb-3c0983c0c506"
   },
   "outputs": [
    {
     "data": {
      "text/plain": [
       "tag_agriculture          12315\n",
       "tag_artisinal_mine         339\n",
       "tag_bare_ground            862\n",
       "tag_blooming               332\n",
       "tag_blow_down               98\n",
       "tag_clear                28431\n",
       "tag_cloudy                2089\n",
       "tag_conventional_mine      100\n",
       "tag_cultivation           4477\n",
       "tag_habitation            3660\n",
       "tag_haze                  2697\n",
       "tag_partly_cloudy         7261\n",
       "tag_primary              37513\n",
       "tag_road                  8071\n",
       "tag_selective_logging      340\n",
       "tag_slash_burn             209\n",
       "tag_water                 7411\n",
       "dtype: int64"
      ]
     },
     "execution_count": 35,
     "metadata": {},
     "output_type": "execute_result"
    }
   ],
   "source": [
    "df[tag_columns].sum()"
   ]
  },
  {
   "cell_type": "code",
   "execution_count": 36,
   "metadata": {
    "_cell_guid": "851ad0fd-9293-aa11-8b9d-c1b478a9e62a"
   },
   "outputs": [
    {
     "data": {
      "text/plain": [
       "<matplotlib.axes._subplots.AxesSubplot at 0x7f4e5f01ab70>"
      ]
     },
     "execution_count": 36,
     "metadata": {},
     "output_type": "execute_result"
    },
    {
     "data": {
      "image/png": "[encoded data removed]",
      "text/plain": [
       "<Figure size 432x288 with 1 Axes>"
      ]
     },
     "metadata": {
      "needs_background": "light"
     },
     "output_type": "display_data"
    }
   ],
   "source": [
    "df[tag_columns].sum().sort_values().plot.bar()"
   ]
  },
  {
   "cell_type": "code",
   "execution_count": 37,
   "metadata": {
    "_cell_guid": "0d97827d-6fbb-84ba-da9e-b9e9ae29c351"
   },
   "outputs": [
    {
     "name": "stdout",
     "output_type": "stream",
     "text": [
      "There are 449 unique tag combinations\n",
      "\n",
      "tags\n",
      "clear primary                                                                13636\n",
      "partly_cloudy primary                                                         3630\n",
      "cloudy                                                                        2089\n",
      "clear primary water                                                           1850\n",
      "agriculture clear primary road                                                1680\n",
      "agriculture clear primary                                                     1626\n",
      "haze primary                                                                  1471\n",
      "agriculture clear cultivation primary                                         1170\n",
      "agriculture clear habitation primary road                                     1125\n",
      "agriculture clear primary water                                                712\n",
      "agriculture partly_cloudy primary                                              692\n",
      "partly_cloudy primary water                                                    595\n",
      "agriculture partly_cloudy primary road                                         527\n",
      "clear primary road water                                                       504\n",
      "clear cultivation primary                                                      472\n",
      "agriculture clear primary road water                                           449\n",
      "agriculture clear cultivation primary road                                     381\n",
      "haze primary water                                                             314\n",
      "agriculture cultivation partly_cloudy primary                                  309\n",
      "agriculture clear cultivation habitation primary road                          271\n",
      "clear water                                                                    261\n",
      "agriculture clear habitation primary road water                                240\n",
      "clear primary road                                                             235\n",
      "agriculture clear cultivation primary water                                    226\n",
      "agriculture partly_cloudy primary water                                        195\n",
      "clear habitation primary road                                                  194\n",
      "blooming clear primary                                                         186\n",
      "agriculture haze primary                                                       172\n",
      "agriculture habitation partly_cloudy primary road                              169\n",
      "bare_ground clear primary                                                      161\n",
      "                                                                             ...  \n",
      "artisinal_mine clear road water                                                  1\n",
      "artisinal_mine clear primary selective_logging water                             1\n",
      "agriculture partly_cloudy primary blow_down                                      1\n",
      "agriculture clear primary conventional_mine                                      1\n",
      "agriculture clear primary road conventional_mine                                 1\n",
      "agriculture clear primary road water conventional_mine                           1\n",
      "agriculture clear primary slash_burn water                                       1\n",
      "agriculture clear primary water conventional_mine                                1\n",
      "agriculture conventional_mine partly_cloudy primary                              1\n",
      "agriculture cultivation cultivation habitation partly_cloudy primary road        1\n",
      "agriculture cultivation cultivation partly_cloudy primary water                  1\n",
      "agriculture cultivation partly_cloudy                                            1\n",
      "agriculture habitation haze road                                                 1\n",
      "agriculture habitation partly_cloudy primary road water conventional_mine        1\n",
      "agriculture haze primary road selective_logging                                  1\n",
      "agriculture partly_cloudy primary road conventional_mine                         1\n",
      "artisinal_mine clear primary selective_logging                                   1\n",
      "agriculture partly_cloudy primary road selective_logging                         1\n",
      "agriculture partly_cloudy road water                                             1\n",
      "artisinal_mine bare_ground clear cultivation primary water                       1\n",
      "artisinal_mine bare_ground clear habitation road                                 1\n",
      "artisinal_mine bare_ground clear primary                                         1\n",
      "artisinal_mine bare_ground partly_cloudy primary road                            1\n",
      "artisinal_mine bare_ground partly_cloudy primary road water                      1\n",
      "artisinal_mine bare_ground partly_cloudy primary water                           1\n",
      "artisinal_mine clear conventional_mine primary road water                        1\n",
      "artisinal_mine clear cultivation primary road water                              1\n",
      "artisinal_mine clear habitation primary road                                     1\n",
      "artisinal_mine clear primary road selective_logging water                        1\n",
      "water                                                                            1\n",
      "Name: image_name, Length: 449, dtype: int64\n"
     ]
    }
   ],
   "source": [
    "tags_count = df.groupby('tags').count().sort_values(by='image_name', ascending=False)['image_name']\n",
    "print('There are {} unique tag combinations'.format(len(tags_count)))\n",
    "print()\n",
    "print(tags_count)"
   ]
  },
  {
   "cell_type": "code",
   "execution_count": 38,
   "metadata": {
    "_cell_guid": "abfb47f9-2e78-dea8-9c97-572c579731c0"
   },
   "outputs": [],
   "source": [
    "from textwrap import wrap\n",
    "\n",
    "def display(images, cols=None, maxcols=10, width=14, titles=None):\n",
    "    if cols is None:\n",
    "        cols = len(images)\n",
    "    n_cols = cols if cols < maxcols else maxcols\n",
    "    plt.rc('axes', grid=False)\n",
    "    fig1 = plt.figure(1, (width, width * math.ceil(len(images)/n_cols)))\n",
    "    grid1 = ImageGrid(\n",
    "                fig1,\n",
    "                111,\n",
    "                nrows_ncols=(math.ceil(len(images)/n_cols), n_cols),\n",
    "                axes_pad=(0.1, 0.6)\n",
    "            )\n",
    "\n",
    "    for index, img in enumerate(images):\n",
    "        grid1[index].grid = False\n",
    "        if titles is not None:\n",
    "            grid1[index].set_title('\\n'.join(wrap(titles[index], width=25)))\n",
    "        if len(img.shape) == 2:\n",
    "            grid1[index].imshow(img, cmap='gray')\n",
    "        else:\n",
    "            grid1[index].imshow(img)"
   ]
  },
  {
   "cell_type": "code",
   "execution_count": 39,
   "metadata": {
    "_cell_guid": "d4f9efa7-6627-ea75-1cf4-d2983ffb1f4b"
   },
   "outputs": [],
   "source": [
    "def load_image(filename, resize=True, folder='train-jpg'):\n",
    "    img = mpimg.imread('../input/{}/{}.jpg'.format(folder, filename))\n",
    "    if resize:\n",
    "        img = cv2.resize(img, (64, 64))\n",
    "    return np.array(img)\n",
    "\n",
    "def mean_normalize(img):\n",
    "    return (img - img.mean()) / (img.max() - img.min())\n",
    "\n",
    "def normalize(img):\n",
    "    return img / 127.5 - 1"
   ]
  },
  {
   "cell_type": "code",
   "execution_count": 40,
   "metadata": {
    "_cell_guid": "a6604505-c1cf-669a-5cc3-d53fa60170ce"
   },
   "outputs": [
    {
     "name": "stdout",
     "output_type": "stream",
     "text": [
      "(64, 64, 4)\n"
     ]
    },
    {
     "data": {
      "image/png": "[encoded data removed]",
      "text/plain": [
       "<Figure size 1008x4032 with 32 Axes>"
      ]
     },
     "metadata": {
      "needs_background": "light"
     },
     "output_type": "display_data"
    }
   ],
   "source": [
    "samples = df.sample(16)\n",
    "sample_images = [load_image(fn) for fn in samples['image_name']]\n",
    "INPUT_SHAPE = sample_images[0].shape\n",
    "print(INPUT_SHAPE)\n",
    "display(\n",
    "    sample_images,\n",
    "    cols=4,\n",
    "    titles=[t for t in samples['tags']]\n",
    ")"
   ]
  },
  {
   "cell_type": "code",
   "execution_count": 41,
   "metadata": {
    "_cell_guid": "fde3db34-bfc5-871c-7c0a-d98effb51c47"
   },
   "outputs": [
    {
     "data": {
      "image/png": "[encoded data removed]",
      "text/plain": [
       "<Figure size 1008x4032 with 32 Axes>"
      ]
     },
     "metadata": {
      "needs_background": "light"
     },
     "output_type": "display_data"
    }
   ],
   "source": [
    "def preprocess(img):\n",
    "    img = normalize(img)\n",
    "    return img\n",
    "\n",
    "display(\n",
    "    [(127.5 * (preprocess(img) + 1)).astype(np.uint8) for img in sample_images],\n",
    "    cols=4,\n",
    "    titles=[t for t in samples['tags']]\n",
    ")"
   ]
  },
  {
   "cell_type": "markdown",
   "metadata": {
    "_cell_guid": "3476a683-d9b8-abfa-0f41-e4d34376270d"
   },
   "source": [
    "# Learn"
   ]
  },
  {
   "cell_type": "code",
   "execution_count": 42,
   "metadata": {
    "_cell_guid": "7bfe0084-81a9-7c4d-6ecd-e07f23b12511"
   },
   "outputs": [],
   "source": [
    "df_train = df"
   ]
  },
  {
   "cell_type": "code",
   "execution_count": 43,
   "metadata": {
    "_cell_guid": "84bd0c01-4c0f-4921-0cb7-dd7ed704f2ab"
   },
   "outputs": [
    {
     "name": "stdout",
     "output_type": "stream",
     "text": [
      "We've got 36431 feature rows and 36431 labels\n",
      "Each row has 1 features\n",
      "and we have 17 classes\n",
      "We use 36431 rows for training and 4048 rows for validation\n",
      "Each image has the shape: (64, 64, 4)\n",
      "So far, so good\n"
     ]
    }
   ],
   "source": [
    "X = df_train['image_name'].values\n",
    "y = df_train[tag_columns].values\n",
    "\n",
    "n_features = 1\n",
    "n_classes = y.shape[1]\n",
    "\n",
    "X, y = shuffle(X, y)\n",
    "\n",
    "X_train, X_valid, y_train, y_valid = train_test_split(X, y, test_size=0.1)\n",
    "\n",
    "print('We\\'ve got {} feature rows and {} labels'.format(len(X_train), len(y_train)))\n",
    "print('Each row has {} features'.format(n_features))\n",
    "print('and we have {} classes'.format(n_classes))\n",
    "assert(len(y_train) == len(X_train))\n",
    "print('We use {} rows for training and {} rows for validation'.format(len(X_train), len(X_valid)))\n",
    "print('Each image has the shape:', INPUT_SHAPE)\n",
    "print('So far, so good')"
   ]
  },
  {
   "cell_type": "code",
   "execution_count": 44,
   "metadata": {
    "_cell_guid": "c7746f07-8533-a624-be6c-a7dda16e97ad"
   },
   "outputs": [
    {
     "name": "stdout",
     "output_type": "stream",
     "text": [
      "Memory usage (train) kB 284\n",
      "Memory usage (valid) kB 31\n"
     ]
    }
   ],
   "source": [
    "print('Memory usage (train) kB', X_train.nbytes//(1024))\n",
    "print('Memory usage (valid) kB', X_valid.nbytes//(1024))"
   ]
  },
  {
   "cell_type": "code",
   "execution_count": 45,
   "metadata": {
    "_cell_guid": "f7d93f36-b75f-2564-2ee3-19a2786ec2b3"
   },
   "outputs": [],
   "source": [
    "def generator(X, y, batch_size=32):\n",
    "    X_copy, y_copy = X, y\n",
    "    while True:\n",
    "        for i in range(0, len(X_copy), batch_size):\n",
    "            X_result, y_result = [], []\n",
    "            for x, y in zip(X_copy[i:i+batch_size], y_copy[i:i+batch_size]):\n",
    "                rx, ry = [load_image(x)], [y]\n",
    "                rx = np.array([preprocess(x) for x in rx])\n",
    "                ry = np.array(ry)\n",
    "                X_result.append(rx)\n",
    "                y_result.append(ry)\n",
    "            X_result, y_result = np.concatenate(X_result), np.concatenate(y_result)\n",
    "            yield shuffle(X_result, y_result)\n",
    "        X_copy, y_copy = shuffle(X_copy, y_copy)"
   ]
  },
  {
   "cell_type": "code",
   "execution_count": 46,
   "metadata": {
    "_cell_guid": "33af6d60-7e6e-a4d5-6651-11daf350cf91"
   },
   "outputs": [
    {
     "name": "stdout",
     "output_type": "stream",
     "text": [
      "_________________________________________________________________\n",
      "Layer (type)                 Output Shape              Param #   \n",
      "=================================================================\n",
      "conv2d_5 (Conv2D)            (None, 29, 29, 48)        12336     \n",
      "_________________________________________________________________\n",
      "batch_normalization_7 (Batch (None, 29, 29, 48)        192       \n",
      "_________________________________________________________________\n",
      "conv2d_6 (Conv2D)            (None, 11, 11, 64)        196672    \n",
      "_________________________________________________________________\n",
      "batch_normalization_8 (Batch (None, 11, 11, 64)        256       \n",
      "_________________________________________________________________\n",
      "conv2d_7 (Conv2D)            (None, 4, 4, 96)          153696    \n",
      "_________________________________________________________________\n",
      "batch_normalization_9 (Batch (None, 4, 4, 96)          384       \n",
      "_________________________________________________________________\n",
      "conv2d_8 (Conv2D)            (None, 2, 2, 96)          83040     \n",
      "_________________________________________________________________\n",
      "batch_normalization_10 (Batc (None, 2, 2, 96)          384       \n",
      "_________________________________________________________________\n",
      "flatten_2 (Flatten)          (None, 384)               0         \n",
      "_________________________________________________________________\n",
      "dropout_2 (Dropout)          (None, 384)               0         \n",
      "_________________________________________________________________\n",
      "dense_4 (Dense)              (None, 256)               98560     \n",
      "_________________________________________________________________\n",
      "batch_normalization_11 (Batc (None, 256)               1024      \n",
      "_________________________________________________________________\n",
      "dense_5 (Dense)              (None, 64)                16448     \n",
      "_________________________________________________________________\n",
      "batch_normalization_12 (Batc (None, 64)                256       \n",
      "_________________________________________________________________\n",
      "dense_6 (Dense)              (None, 17)                1105      \n",
      "=================================================================\n",
      "Total params: 564,353\n",
      "Trainable params: 563,105\n",
      "Non-trainable params: 1,248\n",
      "_________________________________________________________________\n"
     ]
    }
   ],
   "source": [
    "from keras import backend as K\n",
    "\n",
    "def fbeta(y_true, y_pred, threshold_shift=0):\n",
    "    beta = 2\n",
    "\n",
    "    # just in case of hipster activation at the final layer\n",
    "    y_pred = K.clip(y_pred, 0, 1)\n",
    "\n",
    "    # shifting the prediction threshold from .5 if needed\n",
    "    y_pred_bin = K.round(y_pred + threshold_shift)\n",
    "\n",
    "    tp = K.sum(K.round(y_true * y_pred_bin)) + K.epsilon()\n",
    "    fp = K.sum(K.round(K.clip(y_pred_bin - y_true, 0, 1)))\n",
    "    fn = K.sum(K.round(K.clip(y_true - y_pred, 0, 1)))\n",
    "\n",
    "    precision = tp / (tp + fp)\n",
    "    recall = tp / (tp + fn)\n",
    "\n",
    "    beta_squared = beta ** 2\n",
    "    return (beta_squared + 1) * (precision * recall) / (beta_squared * precision + recall + K.epsilon())\n",
    "\n",
    "# define the model\n",
    "\n",
    "model = Sequential()\n",
    "\n",
    "model.add(Conv2D(48, (8, 8), strides=(2, 2), input_shape=INPUT_SHAPE, activation='elu'))\n",
    "model.add(BatchNormalization())\n",
    "\n",
    "model.add(Conv2D(64, (8, 8), strides=(2, 2), activation='elu'))\n",
    "model.add(BatchNormalization())\n",
    "\n",
    "model.add(Conv2D(96, (5, 5), strides=(2, 2), activation='elu'))\n",
    "model.add(BatchNormalization())\n",
    "\n",
    "model.add(Conv2D(96, (3, 3), activation='elu'))\n",
    "model.add(BatchNormalization())\n",
    "\n",
    "model.add(Flatten())\n",
    "model.add(Dropout(0.3))\n",
    "\n",
    "model.add(Dense(256, activation='elu'))\n",
    "model.add(BatchNormalization())\n",
    "\n",
    "model.add(Dense(64, activation='elu'))\n",
    "model.add(BatchNormalization())\n",
    "\n",
    "model.add(Dense(n_classes, activation='sigmoid'))\n",
    "\n",
    "    \n",
    "model.compile(\n",
    "    optimizer='adam',\n",
    "    loss='binary_crossentropy',\n",
    "    metrics=[fbeta, 'accuracy']\n",
    ")\n",
    "\n",
    "model.summary()"
   ]
  },
  {
   "cell_type": "code",
   "execution_count": 47,
   "metadata": {
    "_cell_guid": "0561a61b-ee47-d683-39f1-1e814d59a4e8"
   },
   "outputs": [
    {
     "name": "stdout",
     "output_type": "stream",
     "text": [
      "Epoch 1/3\n",
      "256/256 [==============================] - 53s 206ms/step - loss: 0.4385 - fbeta: 0.6512 - acc: 0.8379 - val_loss: 0.2846 - val_fbeta: 0.6352 - val_acc: 0.8922\n",
      "\n",
      "Epoch 00001: val_fbeta improved from -inf to 0.63521, saving model to weights-improvement-01-0.635.hdf5\n",
      "Epoch 2/3\n",
      "256/256 [==============================] - 50s 197ms/step - loss: 0.2103 - fbeta: 0.6777 - acc: 0.9191 - val_loss: 0.2628 - val_fbeta: 0.5954 - val_acc: 0.8754\n",
      "\n",
      "Epoch 00002: val_fbeta did not improve from 0.63521\n",
      "Epoch 3/3\n",
      "256/256 [==============================] - 51s 198ms/step - loss: 0.1960 - fbeta: 0.6957 - acc: 0.9216 - val_loss: 0.1999 - val_fbeta: 0.7223 - val_acc: 0.9223\n",
      "\n",
      "Epoch 00003: val_fbeta improved from 0.63521 to 0.72228, saving model to weights-improvement-03-0.722.hdf5\n"
     ]
    }
   ],
   "source": [
    "EPOCHS = 3\n",
    "BATCH = 32\n",
    "PER_EPOCH = 256\n",
    "\n",
    "X_train, y_train = shuffle(X_train, y_train)\n",
    "X_valid, y_valid = shuffle(X_valid, y_valid)\n",
    "\n",
    "filepath=\"weights-improvement-{epoch:02d}-{val_fbeta:.3f}.hdf5\"\n",
    "checkpoint = ModelCheckpoint(filepath, monitor='val_fbeta', verbose=1, save_best_only=True, mode='max')\n",
    "callbacks_list = [checkpoint]\n",
    "\n",
    "history = model.fit_generator(\n",
    "    generator(X_train, y_train, batch_size=BATCH),\n",
    "    steps_per_epoch=PER_EPOCH,\n",
    "    epochs=EPOCHS,\n",
    "    validation_data=generator(X_valid, y_valid, batch_size=BATCH),\n",
    "    validation_steps=len(y_valid)//(4*BATCH),\n",
    "    callbacks=callbacks_list\n",
    ")"
   ]
  }
 ],
 "metadata": {
  "_change_revision": 0,
  "_is_fork": false,
  "kernelspec": {
   "display_name": "Python 3",
   "language": "python",
   "name": "python3"
  },
  "language_info": {
   "codemirror_mode": {
    "name": "ipython",
    "version": 3
   },
   "file_extension": ".py",
   "mimetype": "text/x-python",
   "name": "python",
   "nbconvert_exporter": "python",
   "pygments_lexer": "ipython3",
   "version": "3.6.7"
  }
 },
 "nbformat": 4,
 "nbformat_minor": 1
}
